{
 "cells": [
  {
   "cell_type": "markdown",
   "metadata": {},
   "source": [
    "# Quickstart"
   ]
  },
  {
   "cell_type": "markdown",
   "metadata": {},
   "source": [
    "In `utils.py` the `SinumerikTraceHandler` provides fuctionalities for reading XML files and returning a `pandas.DataFrame` object:"
   ]
  },
  {
   "cell_type": "code",
   "execution_count": 1,
   "metadata": {},
   "outputs": [],
   "source": [
    "from utils import SinumerikTraceHandler"
   ]
  },
  {
   "cell_type": "code",
   "execution_count": 2,
   "metadata": {},
   "outputs": [
    {
     "data": {
      "text/html": [
       "<div>\n",
       "<style scoped>\n",
       "    .dataframe tbody tr th:only-of-type {\n",
       "        vertical-align: middle;\n",
       "    }\n",
       "\n",
       "    .dataframe tbody tr th {\n",
       "        vertical-align: top;\n",
       "    }\n",
       "\n",
       "    .dataframe thead th {\n",
       "        text-align: right;\n",
       "    }\n",
       "</style>\n",
       "<table border=\"1\" class=\"dataframe\">\n",
       "  <thead>\n",
       "    <tr style=\"text-align: right;\">\n",
       "      <th></th>\n",
       "      <th>time</th>\n",
       "      <th>/Nck/!SD/nckServoDataCmdPos2ndEnc64 [u1, 1]</th>\n",
       "      <th>/Nck/!SD/nckServoDataContDev64 [u1, 1]</th>\n",
       "      <th>/Nck/!SD/nckServoDataActPos2ndEnc64 [u1, 1]</th>\n",
       "      <th>/Nck/!SD/nckServoDataActPos1stEnc64 [u1, 1]</th>\n",
       "      <th>/Nck/!SD/nckServoDataActCurr64 [u1, 1]</th>\n",
       "      <th>sessionName</th>\n",
       "      <th>start_time</th>\n",
       "      <th>equipment</th>\n",
       "      <th>meas_type_id</th>\n",
       "    </tr>\n",
       "  </thead>\n",
       "  <tbody>\n",
       "    <tr>\n",
       "      <th>0</th>\n",
       "      <td>0.000</td>\n",
       "      <td>-360.0</td>\n",
       "      <td>-0.003016</td>\n",
       "      <td>-359.996982</td>\n",
       "      <td>-760.985794</td>\n",
       "      <td>-0.856018</td>\n",
       "      <td>220124_49514579_GL_X_F6000</td>\n",
       "      <td>2024-01-22T12:19:28.564Z</td>\n",
       "      <td>49514579</td>\n",
       "      <td>F6000</td>\n",
       "    </tr>\n",
       "    <tr>\n",
       "      <th>1</th>\n",
       "      <td>0.002</td>\n",
       "      <td>-360.0</td>\n",
       "      <td>-0.002509</td>\n",
       "      <td>-359.997490</td>\n",
       "      <td>-760.986218</td>\n",
       "      <td>-0.839233</td>\n",
       "      <td>220124_49514579_GL_X_F6000</td>\n",
       "      <td>2024-01-22T12:19:28.564Z</td>\n",
       "      <td>49514579</td>\n",
       "      <td>F6000</td>\n",
       "    </tr>\n",
       "    <tr>\n",
       "      <th>2</th>\n",
       "      <td>0.004</td>\n",
       "      <td>-360.0</td>\n",
       "      <td>-0.002012</td>\n",
       "      <td>-359.997988</td>\n",
       "      <td>-760.986624</td>\n",
       "      <td>-0.812378</td>\n",
       "      <td>220124_49514579_GL_X_F6000</td>\n",
       "      <td>2024-01-22T12:19:28.564Z</td>\n",
       "      <td>49514579</td>\n",
       "      <td>F6000</td>\n",
       "    </tr>\n",
       "    <tr>\n",
       "      <th>3</th>\n",
       "      <td>0.006</td>\n",
       "      <td>-360.0</td>\n",
       "      <td>-0.001543</td>\n",
       "      <td>-359.998457</td>\n",
       "      <td>-760.987005</td>\n",
       "      <td>-0.782166</td>\n",
       "      <td>220124_49514579_GL_X_F6000</td>\n",
       "      <td>2024-01-22T12:19:28.564Z</td>\n",
       "      <td>49514579</td>\n",
       "      <td>F6000</td>\n",
       "    </tr>\n",
       "    <tr>\n",
       "      <th>4</th>\n",
       "      <td>0.008</td>\n",
       "      <td>-360.0</td>\n",
       "      <td>-0.001123</td>\n",
       "      <td>-359.998877</td>\n",
       "      <td>-760.987344</td>\n",
       "      <td>-0.755310</td>\n",
       "      <td>220124_49514579_GL_X_F6000</td>\n",
       "      <td>2024-01-22T12:19:28.564Z</td>\n",
       "      <td>49514579</td>\n",
       "      <td>F6000</td>\n",
       "    </tr>\n",
       "  </tbody>\n",
       "</table>\n",
       "</div>"
      ],
      "text/plain": [
       "    time  /Nck/!SD/nckServoDataCmdPos2ndEnc64 [u1, 1]  \\\n",
       "0  0.000                                       -360.0   \n",
       "1  0.002                                       -360.0   \n",
       "2  0.004                                       -360.0   \n",
       "3  0.006                                       -360.0   \n",
       "4  0.008                                       -360.0   \n",
       "\n",
       "   /Nck/!SD/nckServoDataContDev64 [u1, 1]  \\\n",
       "0                               -0.003016   \n",
       "1                               -0.002509   \n",
       "2                               -0.002012   \n",
       "3                               -0.001543   \n",
       "4                               -0.001123   \n",
       "\n",
       "   /Nck/!SD/nckServoDataActPos2ndEnc64 [u1, 1]  \\\n",
       "0                                  -359.996982   \n",
       "1                                  -359.997490   \n",
       "2                                  -359.997988   \n",
       "3                                  -359.998457   \n",
       "4                                  -359.998877   \n",
       "\n",
       "   /Nck/!SD/nckServoDataActPos1stEnc64 [u1, 1]  \\\n",
       "0                                  -760.985794   \n",
       "1                                  -760.986218   \n",
       "2                                  -760.986624   \n",
       "3                                  -760.987005   \n",
       "4                                  -760.987344   \n",
       "\n",
       "   /Nck/!SD/nckServoDataActCurr64 [u1, 1]                 sessionName  \\\n",
       "0                               -0.856018  220124_49514579_GL_X_F6000   \n",
       "1                               -0.839233  220124_49514579_GL_X_F6000   \n",
       "2                               -0.812378  220124_49514579_GL_X_F6000   \n",
       "3                               -0.782166  220124_49514579_GL_X_F6000   \n",
       "4                               -0.755310  220124_49514579_GL_X_F6000   \n",
       "\n",
       "                 start_time equipment meas_type_id  \n",
       "0  2024-01-22T12:19:28.564Z  49514579        F6000  \n",
       "1  2024-01-22T12:19:28.564Z  49514579        F6000  \n",
       "2  2024-01-22T12:19:28.564Z  49514579        F6000  \n",
       "3  2024-01-22T12:19:28.564Z  49514579        F6000  \n",
       "4  2024-01-22T12:19:28.564Z  49514579        F6000  "
      ]
     },
     "execution_count": 2,
     "metadata": {},
     "output_type": "execute_result"
    }
   ],
   "source": [
    "path = './data/220124_49514579_GL_X_F6000.xml'\n",
    "handler = SinumerikTraceHandler()\n",
    "df = handler.read_xml(path)\n",
    "df.head()"
   ]
  },
  {
   "cell_type": "markdown",
   "metadata": {},
   "source": [
    "<ins>The dataframe contains the raw time series data:<ins>\n",
    "* /Nck/!SD/nckServoDataCmdPos2ndEnc64 [u1, 1] --> commanded position setpoint, calculated in the numeric control\n",
    "* /Nck/!SD/nckServoDataContDev64 [u1, 1] --> actual contour deviation (the smaller, the better) calculated in the umeric control\n",
    "* /Nck/!SD/nckServoDataActPos2ndEnc64 [u1, 1] --> actual position of the second position encoder (absolute measurement system, i.e. glass scale)\n",
    "* /Nck/!SD/nckServoDataActPos1stEnc64 [u1, 1] --> actual position of the first position encoder (relative measurement system, i.e. rotary encoder of the electric motor)\n",
    "* /Nck/!SD/nckServoDataActCurr64 [u1, 1] --> actual motor current\n",
    "    \n",
    "<img src=\"figures/schematic_feed drive.png\" alt=\"isolated\" width=\"800\"/>\n",
    "\n",
    "<ins>The signals are named by the numeric control. Note the numbers in the brackets, that indicate the axis:<ins>\n",
    "* [u1, 1] --> X-axis\n",
    "* [u1, 2] --> Y-Axis\n",
    "* [u1, 3] --> Z-Axis\n",
    "* [u1, 4] --> C-Axis\n",
    "* [u1, 5] --> A-Axis\n",
    "\n",
    "<img src=\"figures/axes.jpg\" alt=\"isolated\" width=\"400\"/>   \n",
    " \n",
    "<ins>Furthermore, the dataframe contains all necessary meta data needed to identify the measurement:<ins>\n",
    "* sessionName --> name of the measurement session (might slightly differ from the filename due to typos)\n",
    "* start_time --> start time of the measurement\n",
    "* equipment --> name of the machine\n",
    "* meas_type_id --> type of excitation that was recorded"
   ]
  },
  {
   "cell_type": "code",
   "execution_count": 3,
   "metadata": {},
   "outputs": [
    {
     "data": {
      "image/png": "[encoded data removed]",
      "text/plain": [
       "<Figure size 432x288 with 1 Axes>"
      ]
     },
     "metadata": {
      "needs_background": "light"
     },
     "output_type": "display_data"
    }
   ],
   "source": [
    "%matplotlib inline\n",
    "import matplotlib.pyplot as plt\n",
    "\n",
    "fig, ax = plt.subplots()\n",
    "df.plot(x='time', y='/Nck/!SD/nckServoDataActCurr64 [u1, 1]', ax=ax)\n",
    "ax.set(ylabel='current in A', xlabel='time in s')\n",
    "ax.grid(linestyle='--')\n",
    "plt.show()"
   ]
  }
 ],
 "metadata": {
  "kernelspec": {
   "display_name": "Python 3",
   "language": "python",
   "name": "python3"
  },
  "language_info": {
   "codemirror_mode": {
    "name": "ipython",
    "version": 3
   },
   "file_extension": ".py",
   "mimetype": "text/x-python",
   "name": "python",
   "nbconvert_exporter": "python",
   "pygments_lexer": "ipython3",
   "version": "3.7.6"
  }
 },
 "nbformat": 4,
 "nbformat_minor": 4
}
